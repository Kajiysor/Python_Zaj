{
 "cells": [
  {
   "cell_type": "markdown",
   "metadata": {},
   "source": [
    "### Zad. 3. 1"
   ]
  },
  {
   "cell_type": "code",
   "execution_count": 28,
   "metadata": {},
   "outputs": [],
   "source": [
    "x = 2\n",
    "y = 3\n",
    "if (x > y):\n",
    "    result = x\n",
    "else:\n",
    "    result = y\n"
   ]
  },
  {
   "cell_type": "markdown",
   "metadata": {},
   "source": [
    "Podany kod jest poprawny skladniowo aczkolwiek w Pythonie sredniki nie sa uzywane do oznaczenia konca lini tylko moga zostac uzyte do oddzielenia instrukcji w jednej linii."
   ]
  },
  {
   "cell_type": "code",
   "execution_count": null,
   "metadata": {},
   "outputs": [],
   "source": [
    "# Przyklad kodu zapisanego ladniej\n",
    "x = 2\n",
    "y = 3\n",
    "if (x > y):\n",
    "    result = x\n",
    "else:\n",
    "    result = y\n"
   ]
  },
  {
   "cell_type": "code",
   "execution_count": 2,
   "metadata": {},
   "outputs": [
    {
     "ename": "SyntaxError",
     "evalue": "invalid syntax (<ipython-input-2-92923a4c5799>, line 1)",
     "output_type": "error",
     "traceback": [
      "\u001b[0;36m  File \u001b[0;32m\"<ipython-input-2-92923a4c5799>\"\u001b[0;36m, line \u001b[0;32m1\u001b[0m\n\u001b[0;31m    for i in \"axby\": if ord(i) < 100: print (i)\u001b[0m\n\u001b[0m                     ^\u001b[0m\n\u001b[0;31mSyntaxError\u001b[0m\u001b[0;31m:\u001b[0m invalid syntax\n"
     ]
    }
   ],
   "source": [
    "for i in \"axby\":\n",
    "    if ord(i) < 100:\n",
    "        print(i)\n"
   ]
  },
  {
   "cell_type": "markdown",
   "metadata": {},
   "source": [
    "Podany kod nie jest poprawny skladniowo. W tym przypadku gdy chcemy uzyc dwukropkow, kolejne\n",
    "instrukjce nalezy podac w nowych liniach z odpowiednim wcieciem."
   ]
  },
  {
   "cell_type": "code",
   "execution_count": 13,
   "metadata": {},
   "outputs": [
    {
     "name": "stdout",
     "output_type": "stream",
     "text": [
      "a\n",
      "b\n"
     ]
    }
   ],
   "source": [
    "# Przyklad poprawnego kodu\n",
    "for i in \"axby\":\n",
    "    if ord(i) < 100:\n",
    "        print(i)\n"
   ]
  },
  {
   "cell_type": "code",
   "execution_count": 12,
   "metadata": {},
   "outputs": [
    {
     "name": "stdout",
     "output_type": "stream",
     "text": [
      "97\n",
      "x\n",
      "98\n",
      "y\n"
     ]
    }
   ],
   "source": [
    "for i in \"axby\":\n",
    "    print(ord(i) if ord(i) < 100 else i)\n"
   ]
  },
  {
   "cell_type": "markdown",
   "metadata": {},
   "source": [
    "W tym przypadku kod jest poprawny skladniowo."
   ]
  },
  {
   "cell_type": "markdown",
   "metadata": {},
   "source": [
    "### Zad. 3. 2"
   ]
  },
  {
   "cell_type": "code",
   "execution_count": 1,
   "metadata": {},
   "outputs": [],
   "source": [
    "L = [3, 5, 4]\n",
    "L = L.sort()\n"
   ]
  },
  {
   "cell_type": "markdown",
   "metadata": {},
   "source": [
    "W kodzie teoretycznie wszystko jest poprawnie, natomiast instrukcje mogly zostac zapisane w dwoch osobnych liniach aby zapobiec uzyciu srednika."
   ]
  },
  {
   "cell_type": "code",
   "execution_count": 4,
   "metadata": {},
   "outputs": [
    {
     "ename": "ValueError",
     "evalue": "too many values to unpack (expected 2)",
     "output_type": "error",
     "traceback": [
      "\u001b[0;31m---------------------------------------------------------------------------\u001b[0m",
      "\u001b[0;31mValueError\u001b[0m                                Traceback (most recent call last)",
      "\u001b[0;32m<ipython-input-4-10edbbb6d673>\u001b[0m in \u001b[0;36m<module>\u001b[0;34m\u001b[0m\n\u001b[0;32m----> 1\u001b[0;31m \u001b[0mx\u001b[0m\u001b[0;34m,\u001b[0m \u001b[0my\u001b[0m \u001b[0;34m=\u001b[0m \u001b[0;36m1\u001b[0m\u001b[0;34m,\u001b[0m \u001b[0;36m2\u001b[0m\u001b[0;34m,\u001b[0m \u001b[0;36m3\u001b[0m\u001b[0;34m\u001b[0m\u001b[0;34m\u001b[0m\u001b[0m\n\u001b[0m",
      "\u001b[0;31mValueError\u001b[0m: too many values to unpack (expected 2)"
     ]
    }
   ],
   "source": [
    "x, y = 1, 2, 3\n"
   ]
  },
  {
   "cell_type": "markdown",
   "metadata": {},
   "source": [
    "Proba przypisania trzech wartosci do dwoch zmiennych skutkuje bledem"
   ]
  },
  {
   "cell_type": "code",
   "execution_count": 5,
   "metadata": {},
   "outputs": [
    {
     "ename": "TypeError",
     "evalue": "'tuple' object does not support item assignment",
     "output_type": "error",
     "traceback": [
      "\u001b[0;31m---------------------------------------------------------------------------\u001b[0m",
      "\u001b[0;31mTypeError\u001b[0m                                 Traceback (most recent call last)",
      "\u001b[0;32m<ipython-input-5-903472ef06cb>\u001b[0m in \u001b[0;36m<module>\u001b[0;34m\u001b[0m\n\u001b[0;32m----> 1\u001b[0;31m \u001b[0mX\u001b[0m \u001b[0;34m=\u001b[0m \u001b[0;36m1\u001b[0m\u001b[0;34m,\u001b[0m \u001b[0;36m2\u001b[0m\u001b[0;34m,\u001b[0m \u001b[0;36m3\u001b[0m \u001b[0;34m;\u001b[0m \u001b[0mX\u001b[0m\u001b[0;34m[\u001b[0m\u001b[0;36m1\u001b[0m\u001b[0;34m]\u001b[0m \u001b[0;34m=\u001b[0m \u001b[0;36m4\u001b[0m\u001b[0;34m\u001b[0m\u001b[0;34m\u001b[0m\u001b[0m\n\u001b[0m",
      "\u001b[0;31mTypeError\u001b[0m: 'tuple' object does not support item assignment"
     ]
    }
   ],
   "source": [
    "X = 1, 2, 3\n",
    "X[1] = 4\n"
   ]
  },
  {
   "cell_type": "markdown",
   "metadata": {},
   "source": [
    "Przypisanie wartosci w taki sposob do zmiennej X tworzy krotke. Nastepnie probujemy zmienic wartosc w srodku krotki co jest zabroniona operacja."
   ]
  },
  {
   "cell_type": "code",
   "execution_count": 6,
   "metadata": {},
   "outputs": [
    {
     "ename": "IndexError",
     "evalue": "list assignment index out of range",
     "output_type": "error",
     "traceback": [
      "\u001b[0;31m---------------------------------------------------------------------------\u001b[0m",
      "\u001b[0;31mIndexError\u001b[0m                                Traceback (most recent call last)",
      "\u001b[0;32m<ipython-input-6-5b757d0b0659>\u001b[0m in \u001b[0;36m<module>\u001b[0;34m\u001b[0m\n\u001b[0;32m----> 1\u001b[0;31m \u001b[0mX\u001b[0m \u001b[0;34m=\u001b[0m \u001b[0;34m[\u001b[0m\u001b[0;36m1\u001b[0m\u001b[0;34m,\u001b[0m \u001b[0;36m2\u001b[0m\u001b[0;34m,\u001b[0m \u001b[0;36m3\u001b[0m\u001b[0;34m]\u001b[0m \u001b[0;34m;\u001b[0m \u001b[0mX\u001b[0m\u001b[0;34m[\u001b[0m\u001b[0;36m3\u001b[0m\u001b[0;34m]\u001b[0m \u001b[0;34m=\u001b[0m \u001b[0;36m4\u001b[0m\u001b[0;34m\u001b[0m\u001b[0;34m\u001b[0m\u001b[0m\n\u001b[0m",
      "\u001b[0;31mIndexError\u001b[0m: list assignment index out of range"
     ]
    }
   ],
   "source": [
    "X = [1, 2, 3]\n",
    "X[3] = 4\n"
   ]
  },
  {
   "cell_type": "markdown",
   "metadata": {},
   "source": [
    "Proba przypisania wartosci do indeksu w liscie, ktory nie istnieje skutkuje bledem. W tym aby dodac wartosc do listy nalezaloby uzyc metody .append()."
   ]
  },
  {
   "cell_type": "code",
   "execution_count": 7,
   "metadata": {},
   "outputs": [
    {
     "ename": "AttributeError",
     "evalue": "'str' object has no attribute 'append'",
     "output_type": "error",
     "traceback": [
      "\u001b[0;31m---------------------------------------------------------------------------\u001b[0m",
      "\u001b[0;31mAttributeError\u001b[0m                            Traceback (most recent call last)",
      "\u001b[0;32m<ipython-input-7-c21a49a27667>\u001b[0m in \u001b[0;36m<module>\u001b[0;34m\u001b[0m\n\u001b[0;32m----> 1\u001b[0;31m \u001b[0mX\u001b[0m \u001b[0;34m=\u001b[0m \u001b[0;34m\"abc\"\u001b[0m \u001b[0;34m;\u001b[0m \u001b[0mX\u001b[0m\u001b[0;34m.\u001b[0m\u001b[0mappend\u001b[0m\u001b[0;34m(\u001b[0m\u001b[0;34m\"d\"\u001b[0m\u001b[0;34m)\u001b[0m\u001b[0;34m\u001b[0m\u001b[0;34m\u001b[0m\u001b[0m\n\u001b[0m",
      "\u001b[0;31mAttributeError\u001b[0m: 'str' object has no attribute 'append'"
     ]
    }
   ],
   "source": [
    "X = \"abc\"\n",
    "X.append(\"d\")\n"
   ]
  },
  {
   "cell_type": "markdown",
   "metadata": {},
   "source": [
    "Zmienne typu string nie wspieraja metody .append(). Metody tej moglibysmy uzyc jesli zmienna X bylaby lista. Natomiast aby dodac do konca stringa mozna byloby uzyc operatora +."
   ]
  },
  {
   "cell_type": "code",
   "execution_count": 8,
   "metadata": {},
   "outputs": [
    {
     "ename": "TypeError",
     "evalue": "pow() missing required argument 'exp' (pos 2)",
     "output_type": "error",
     "traceback": [
      "\u001b[0;31m---------------------------------------------------------------------------\u001b[0m",
      "\u001b[0;31mTypeError\u001b[0m                                 Traceback (most recent call last)",
      "\u001b[0;32m<ipython-input-8-c18d5013adce>\u001b[0m in \u001b[0;36m<module>\u001b[0;34m\u001b[0m\n\u001b[0;32m----> 1\u001b[0;31m \u001b[0mL\u001b[0m \u001b[0;34m=\u001b[0m \u001b[0mlist\u001b[0m\u001b[0;34m(\u001b[0m\u001b[0mmap\u001b[0m\u001b[0;34m(\u001b[0m\u001b[0mpow\u001b[0m\u001b[0;34m,\u001b[0m \u001b[0mrange\u001b[0m\u001b[0;34m(\u001b[0m\u001b[0;36m8\u001b[0m\u001b[0;34m)\u001b[0m\u001b[0;34m)\u001b[0m\u001b[0;34m)\u001b[0m\u001b[0;34m\u001b[0m\u001b[0;34m\u001b[0m\u001b[0m\n\u001b[0m",
      "\u001b[0;31mTypeError\u001b[0m: pow() missing required argument 'exp' (pos 2)"
     ]
    }
   ],
   "source": [
    "L = list(map(pow, range(8)))\n"
   ]
  },
  {
   "cell_type": "markdown",
   "metadata": {},
   "source": [
    "Funkcja pow() powinna dostac na wejscie argumenty, ktorych w tym przypadku nie ma."
   ]
  },
  {
   "cell_type": "markdown",
   "metadata": {},
   "source": [
    "### Zad. 3. 3"
   ]
  },
  {
   "cell_type": "code",
   "execution_count": 11,
   "metadata": {},
   "outputs": [
    {
     "name": "stdout",
     "output_type": "stream",
     "text": [
      "[1, 2, 4, 5, 7, 8, 10, 11, 13, 14, 16, 17, 19, 20, 22, 23, 25, 26, 28, 29]\n"
     ]
    }
   ],
   "source": [
    "print([i for i in range(31) if i % 3])\n"
   ]
  },
  {
   "cell_type": "markdown",
   "metadata": {},
   "source": [
    "### Zad. 3. 4"
   ]
  },
  {
   "cell_type": "code",
   "execution_count": 3,
   "metadata": {},
   "outputs": [
    {
     "name": "stdout",
     "output_type": "stream",
     "text": [
      "Your number: 3.0\n",
      "Your number to the power of 3: 27.0\n"
     ]
    }
   ],
   "source": [
    "while True:\n",
    "    input_str = input(\n",
    "        \"Please input a number or write 'stop' if you wish to stop: \")\n",
    "    if input_str.lower() == \"stop\":\n",
    "        break\n",
    "    try:\n",
    "        input_num = float(input_str)\n",
    "        print(f\"Your number: {input_num}\")\n",
    "        print(f\"Your number to the power of 3: {input_num ** 3}\")\n",
    "    except:\n",
    "        print(\"Error! You did not provide a number, please input a NUMBER: \")\n"
   ]
  },
  {
   "cell_type": "markdown",
   "metadata": {},
   "source": [
    "### Zad. 3. 5"
   ]
  },
  {
   "cell_type": "code",
   "execution_count": 5,
   "metadata": {},
   "outputs": [
    {
     "name": "stdout",
     "output_type": "stream",
     "text": [
      "|....|....|....|....|....|....|....|....|....|....|\n",
      "0    1    2    3    4    5    6    7    8    9   10\n"
     ]
    }
   ],
   "source": [
    "size = int(input(\"Provide the ruler size: \"))\n",
    "\n",
    "ruler = \"|\"\n",
    "nums = \"0\"\n",
    "for i in range(1, size + 1):\n",
    "    ruler += \"....|\"\n",
    "    nums += str(i).rjust(5)\n",
    "\n",
    "ruler = ruler + \"\\n\" + nums\n",
    "\n",
    "print(ruler)\n"
   ]
  },
  {
   "cell_type": "markdown",
   "metadata": {},
   "source": [
    "### Zad. 3. 6"
   ]
  },
  {
   "cell_type": "code",
   "execution_count": 8,
   "metadata": {},
   "outputs": [
    {
     "name": "stdout",
     "output_type": "stream",
     "text": [
      "\n",
      "+---+---+---+---+\n",
      "|   |   |   |   |\n",
      "+---+---+---+---+\n",
      "|   |   |   |   |\n",
      "+---+---+---+---+\n"
     ]
    }
   ],
   "source": [
    "result = \"\"\n",
    "\n",
    "w = int(input(\"Width: \"))\n",
    "h = int(input(\"Height: \"))\n",
    "\n",
    "for i in range(h * 2 + 1):\n",
    "    line = \"\"\n",
    "    for j in range(w * 4 + 1):\n",
    "        if i % 2 == 0:\n",
    "            line += '+' if j % 4 == 0 else '-'\n",
    "        else:\n",
    "            line += '|' if j % 4 == 0 else ' '\n",
    "    result = result + '\\n' + line\n",
    "print(result)\n"
   ]
  },
  {
   "cell_type": "markdown",
   "metadata": {},
   "source": [
    "### Zad. 3. 7"
   ]
  },
  {
   "cell_type": "code",
   "execution_count": 15,
   "metadata": {},
   "outputs": [
    {
     "name": "stdout",
     "output_type": "stream",
     "text": [
      "12 sec 3456 sec\n",
      "[Time(12), Time(3456)]\n"
     ]
    }
   ],
   "source": [
    "class Time:\n",
    "\n",
    "    def __init__(self, seconds=0):\n",
    "        self.s = seconds\n",
    "\n",
    "    def __str__(self):\n",
    "        return \"{} sec\".format(self.s)\n",
    "\n",
    "    def __repr__(self):\n",
    "        return \"Time({})\".format(self.s)\n",
    "\n",
    "\n",
    "time1 = Time(12)\n",
    "time2 = Time(3456)\n",
    "print(\"{} {}\".format(time1, time2))   # Python wywołuje str()\n",
    "print(\"{}\".format([time1, time2]))   # Python wywołuje repr()\n"
   ]
  },
  {
   "cell_type": "code",
   "execution_count": 13,
   "metadata": {},
   "outputs": [
    {
     "name": "stdout",
     "output_type": "stream",
     "text": [
      "Time(12) Time(3456)\n",
      "[Time(12), Time(3456)]\n"
     ]
    }
   ],
   "source": [
    "class Time:\n",
    "\n",
    "    def __init__(self, seconds=0):\n",
    "        self.s = seconds\n",
    "\n",
    "    def __repr__(self):\n",
    "        return \"Time({})\".format(self.s)\n",
    "\n",
    "\n",
    "time1 = Time(12)\n",
    "time2 = Time(3456)\n",
    "print(\"{} {}\".format(time1, time2))   # Python wywołuje str()\n",
    "print(\"{}\".format([time1, time2]))   # Python wywołuje repr()\n"
   ]
  },
  {
   "cell_type": "code",
   "execution_count": 14,
   "metadata": {},
   "outputs": [
    {
     "name": "stdout",
     "output_type": "stream",
     "text": [
      "12 sec 3456 sec\n",
      "[<__main__.Time object at 0x7faee06f5970>, <__main__.Time object at 0x7faee06f5af0>]\n"
     ]
    }
   ],
   "source": [
    "class Time:\n",
    "\n",
    "    def __init__(self, seconds=0):\n",
    "        self.s = seconds\n",
    "\n",
    "    def __str__(self):\n",
    "        return \"{} sec\".format(self.s)\n",
    "\n",
    "\n",
    "time1 = Time(12)\n",
    "time2 = Time(3456)\n",
    "print(\"{} {}\".format(time1, time2))   # Python wywołuje str()\n",
    "print(\"{}\".format([time1, time2]))   # Python wywołuje repr()\n"
   ]
  },
  {
   "cell_type": "markdown",
   "metadata": {},
   "source": [
    "### Zad. 3. 8"
   ]
  },
  {
   "cell_type": "code",
   "execution_count": 22,
   "metadata": {},
   "outputs": [
    {
     "name": "stdout",
     "output_type": "stream",
     "text": [
      "Elements that are in both of the sequences: {'1', 'f', 'd', '2'}\n",
      "Elements from the first sequence: {'1', '2', 'f', 'h', 'l', 'd', '7'}\n",
      "Elements from the second sequence: {'1', 'j', '3', '2', 'n', '4', 'f', 'd'}\n"
     ]
    }
   ],
   "source": [
    "seq1 = \"1lhdf712\"\n",
    "seq2 = \"21j34ndjf\"\n",
    "\n",
    "print(\n",
    "    f\"Elements that are in both of the sequences: {set(list(seq1)).intersection(seq2)}\")\n",
    "print(\n",
    "    f\"Elements from the first sequence: {set(seq1)}\\nElements from the second sequence: {set(seq2)}\")\n"
   ]
  },
  {
   "cell_type": "markdown",
   "metadata": {},
   "source": [
    "### Zad. 3. 9"
   ]
  },
  {
   "cell_type": "code",
   "execution_count": 25,
   "metadata": {},
   "outputs": [
    {
     "name": "stdout",
     "output_type": "stream",
     "text": [
      "[0, 4, 3, 7, 18]\n"
     ]
    }
   ],
   "source": [
    "seq = [[], [4], (1, 2), [3, 4], (5, 6, 7)]\n",
    "\n",
    "print([sum(i) for i in seq])\n"
   ]
  },
  {
   "cell_type": "markdown",
   "metadata": {},
   "source": [
    "### Zad. 3. 10"
   ]
  },
  {
   "cell_type": "code",
   "execution_count": 2,
   "metadata": {},
   "outputs": [],
   "source": [
    "roman2int_dict = {'I': 1, 'V': 5, 'X': 10,\n",
    "                  'L': 50, 'C': 100, 'D': 500, 'M': 1000}\n"
   ]
  },
  {
   "cell_type": "code",
   "execution_count": 14,
   "metadata": {},
   "outputs": [
    {
     "name": "stdout",
     "output_type": "stream",
     "text": [
      "MCMIV: 1904\n"
     ]
    }
   ],
   "source": [
    "def roman2int(roman: str) -> int:\n",
    "\n",
    "    res = 0\n",
    "    for i in range(len(roman)):\n",
    "        if i > 0 and roman2int_dict[roman[i]] > roman2int_dict[roman[i - 1]]:\n",
    "            res += roman2int_dict[roman[i]] - 2 * roman2int_dict[roman[i - 1]]\n",
    "        else:\n",
    "            res += roman2int_dict[roman[i]]\n",
    "\n",
    "    return res\n",
    "\n",
    "\n",
    "print(f\"MCMIV: {roman2int('MCMIV')}\")\n"
   ]
  }
 ],
 "metadata": {
  "kernelspec": {
   "display_name": "Python 3.10.4 64-bit",
   "language": "python",
   "name": "python3"
  },
  "language_info": {
   "codemirror_mode": {
    "name": "ipython",
    "version": 3
   },
   "file_extension": ".py",
   "mimetype": "text/x-python",
   "name": "python",
   "nbconvert_exporter": "python",
   "pygments_lexer": "ipython3",
   "version": "3.10.4"
  },
  "orig_nbformat": 4,
  "vscode": {
   "interpreter": {
    "hash": "97cc609b13305c559618ec78a438abc56230b9381f827f22d070313b9a1f3777"
   }
  }
 },
 "nbformat": 4,
 "nbformat_minor": 2
}
