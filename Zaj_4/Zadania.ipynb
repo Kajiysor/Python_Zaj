{
 "cells": [
  {
   "cell_type": "markdown",
   "metadata": {},
   "source": [
    "### Zad. 4. 2"
   ]
  },
  {
   "cell_type": "code",
   "execution_count": 38,
   "metadata": {},
   "outputs": [
    {
     "name": "stdout",
     "output_type": "stream",
     "text": [
      "|....|....|....|....|....|....|....|....|....|....|\n",
      "0    1    2    3    4    5    6    7    8    9   10\n",
      "\n",
      "+---+---+---+---+---+---+\n",
      "|   |   |   |   |   |   |\n",
      "+---+---+---+---+---+---+\n",
      "|   |   |   |   |   |   |\n",
      "+---+---+---+---+---+---+\n",
      "|   |   |   |   |   |   |\n",
      "+---+---+---+---+---+---+\n",
      "|   |   |   |   |   |   |\n",
      "+---+---+---+---+---+---+\n"
     ]
    }
   ],
   "source": [
    "def make_ruler(size: int) -> str:\n",
    "\n",
    "    ruler = \"|\"\n",
    "    nums = \"0\"\n",
    "    for i in range(1, size + 1):\n",
    "        ruler += \"....|\"\n",
    "        nums += str(i).rjust(5)\n",
    "\n",
    "    ruler = ruler + \"\\n\" + nums\n",
    "\n",
    "    return ruler\n",
    "\n",
    "def make_grid(rows: int, cols: int) -> str:\n",
    "\n",
    "    result = \"\"\n",
    "    for i in range(cols * 2 + 1):\n",
    "        line = \"\"\n",
    "        for j in range(rows * 4 + 1):\n",
    "            if i % 2 == 0:\n",
    "                line += '+' if j % 4 == 0 else '-'\n",
    "            else:\n",
    "                line += '|' if j % 4 == 0 else ' '\n",
    "        result = result + '\\n' + line\n",
    "\n",
    "    return result\n",
    "\n",
    "print(make_ruler(10))\n",
    "print(make_grid(6, 4))"
   ]
  },
  {
   "cell_type": "markdown",
   "metadata": {},
   "source": [
    "### Zad. 4. 3"
   ]
  },
  {
   "cell_type": "code",
   "execution_count": 39,
   "metadata": {},
   "outputs": [
    {
     "name": "stdout",
     "output_type": "stream",
     "text": [
      "120\n"
     ]
    }
   ],
   "source": [
    "def factorial(n: int) -> int:\n",
    "    result = 1\n",
    "    while n > 1:\n",
    "        result = result * n\n",
    "        n -= 1\n",
    "    return result\n",
    "\n",
    "print(factorial(5))"
   ]
  },
  {
   "cell_type": "markdown",
   "metadata": {},
   "source": [
    "### Zad. 4. 4"
   ]
  },
  {
   "cell_type": "code",
   "execution_count": 40,
   "metadata": {},
   "outputs": [
    {
     "name": "stdout",
     "output_type": "stream",
     "text": [
      "13\n"
     ]
    }
   ],
   "source": [
    "def fibonacci(n: int) -> int:\n",
    "    if n <= 1:\n",
    "        return n\n",
    "    else:\n",
    "       return(fibonacci(n-1) + fibonacci(n-2))\n",
    "\n",
    "print(fibonacci(7))"
   ]
  },
  {
   "cell_type": "markdown",
   "metadata": {},
   "source": [
    "### Zad. 4. 5"
   ]
  },
  {
   "cell_type": "code",
   "execution_count": 41,
   "metadata": {},
   "outputs": [
    {
     "name": "stdout",
     "output_type": "stream",
     "text": [
      "[1, 6, 5, 4, 3, 2, 7]\n",
      "[1, 6, 5, 4, 3, 2, 7]\n"
     ]
    }
   ],
   "source": [
    "def odwracanie_iter(L: list, left: int, right: int) -> list:\n",
    "    while (right > left):\n",
    "        L[left], L[right] = L[right], L[left]\n",
    "        right -= 1\n",
    "        left += 1\n",
    "\n",
    "def odwracanie_rekur(L: list, left: int, right: int) -> list:\n",
    "    if right > left:\n",
    "        L[left], L[right] = L[right], L[left]\n",
    "        odwracanie_rekur(L, left + 1, right - 1)\n",
    "\n",
    "lista = [1,2,3,4,5,6,7]\n",
    "lista_copy = lista.copy()\n",
    "\n",
    "odwracanie_iter(lista, 1, 5)\n",
    "print(lista)\n",
    "\n",
    "odwracanie_rekur(lista_copy, 1, 5)\n",
    "print(lista_copy)"
   ]
  },
  {
   "cell_type": "markdown",
   "metadata": {},
   "source": [
    "### Zad. 4. 6"
   ]
  },
  {
   "cell_type": "code",
   "execution_count": 47,
   "metadata": {},
   "outputs": [
    {
     "name": "stdout",
     "output_type": "stream",
     "text": [
      "32\n"
     ]
    }
   ],
   "source": [
    "def sum_sequence(sequence) -> int:\n",
    "    result = 0\n",
    "    for i in sequence:\n",
    "        result += sum_sequence(i) if isinstance(i, (list, tuple)) else i\n",
    "    return result\n",
    "\n",
    "print(sum_sequence([[], [4], (1, 2), [3, 4], (5, 6, 7)]))"
   ]
  },
  {
   "cell_type": "markdown",
   "metadata": {},
   "source": [
    "### Zad. 4. 7"
   ]
  },
  {
   "cell_type": "code",
   "execution_count": 45,
   "metadata": {},
   "outputs": [
    {
     "name": "stdout",
     "output_type": "stream",
     "text": [
      "[1, 2, 3, 4, 5, 6, 7, 8, 9]\n"
     ]
    }
   ],
   "source": [
    "def flatten(sequence) -> list:\n",
    "    result = []\n",
    "    for i in sequence:\n",
    "        if isinstance(i, (list, tuple)):\n",
    "            result += (flatten(i))\n",
    "        else:\n",
    "            result.append(i)\n",
    "    return result\n",
    "\n",
    "print(flatten([1,(2,3),[],[4,(5,6,7)],8,[9]]))"
   ]
  }
 ],
 "metadata": {
  "kernelspec": {
   "display_name": "Python 3.8.8 ('base')",
   "language": "python",
   "name": "python3"
  },
  "language_info": {
   "codemirror_mode": {
    "name": "ipython",
    "version": 3
   },
   "file_extension": ".py",
   "mimetype": "text/x-python",
   "name": "python",
   "nbconvert_exporter": "python",
   "pygments_lexer": "ipython3",
   "version": "3.8.8"
  },
  "orig_nbformat": 4,
  "vscode": {
   "interpreter": {
    "hash": "2a6df7c1242a863b1b3df8bdf205ec897e2232588b542a435a96001910508139"
   }
  }
 },
 "nbformat": 4,
 "nbformat_minor": 2
}
